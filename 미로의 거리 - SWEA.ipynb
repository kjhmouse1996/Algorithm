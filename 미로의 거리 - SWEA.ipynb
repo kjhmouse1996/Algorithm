{
 "cells": [
  {
   "cell_type": "code",
   "execution_count": 1,
   "metadata": {},
   "outputs": [
    {
     "name": "stdout",
     "output_type": "stream",
     "text": [
      "3\n",
      "5\n",
      "13101\n",
      "10101\n",
      "10101\n",
      "10101\n",
      "10021\n",
      "#1 5\n",
      "5\n",
      "10031\n",
      "10111\n",
      "10101\n",
      "10101\n",
      "12001\n",
      "#2 5\n",
      "5\n",
      "00013\n",
      "01110\n",
      "21000\n",
      "01111\n",
      "00000\n",
      "#3 0\n"
     ]
    }
   ],
   "source": [
    "def bfs(y, x):\n",
    "    distance = [[0 for _ in range(N)] for _ in range(N)]\n",
    "    q = [(y, x)]\n",
    "\n",
    "    dxy = [(0, 1), (1, 0), (0, -1), (-1, 0)]  # 오른쪽, 아래, 왼쪽, 위\n",
    "    while q:\n",
    "        y, x = q.pop(0)\n",
    "        if maze[y][x] == 0 or 2:\n",
    "            maze[y][x] = 1\n",
    "\n",
    "            for dy, dx in dxy:\n",
    "                ny, nx = y + dy, x + dx\n",
    "\n",
    "                if 0 <= ny <= N-1 and 0 <= nx <= N-1:\n",
    "                    if maze[ny][nx] == 0:\n",
    "                        distance[ny][nx] = distance[y][x] + 1\n",
    "                        q.append((ny, nx))\n",
    "                    elif maze[ny][nx] == 3:\n",
    "                        return distance[y][x]\n",
    "    return 0\n",
    "\n",
    "T = int(input())\n",
    "for tc in range(1, T+1):\n",
    "    N = int(input())\n",
    "    maze = [list(map(int, list(input()))) for _ in range(N)]\n",
    "    for i in range(N):\n",
    "        if 2 in maze[i]:\n",
    "            sy, sx = i, maze[i].index(2)\n",
    "            break\n",
    "    print('#{} {}'.format(tc, bfs(sy, sx)))"
   ]
  },
  {
   "cell_type": "markdown",
   "metadata": {},
   "source": [
    "1. 시작점인 2의 좌표를 찾아 준다.\n",
    "\n",
    "2. 거리를 담을 2차 행렬 distance를 만들어 준다.\n",
    "\n",
    "3. 갈 노드들을 담아줄 q 리스트를 만든다.\n",
    "\n",
    "4. q에서 앞의 하나를 꺼내서 0이나 2면 maze에 방문 처리를 해준다.\n",
    "\n",
    "5. 사방으로 갈수 있기 때문에 4번 방향을 바꾸어주며 통로(0)이면 그곳까지 가는데 거치는 칸수를 더해준다.\n",
    "\n",
    "6. q에 추가해준다.\n",
    "\n",
    "6. 만약 그곳이 끝점(3)이라면 거리를 반환해준다."
   ]
  },
  {
   "cell_type": "code",
   "execution_count": null,
   "metadata": {},
   "outputs": [],
   "source": []
  }
 ],
 "metadata": {
  "kernelspec": {
   "display_name": "Python 3",
   "language": "python",
   "name": "python3"
  },
  "language_info": {
   "codemirror_mode": {
    "name": "ipython",
    "version": 3
   },
   "file_extension": ".py",
   "mimetype": "text/x-python",
   "name": "python",
   "nbconvert_exporter": "python",
   "pygments_lexer": "ipython3",
   "version": "3.8.5"
  },
  "toc": {
   "base_numbering": 1,
   "nav_menu": {},
   "number_sections": true,
   "sideBar": true,
   "skip_h1_title": false,
   "title_cell": "Table of Contents",
   "title_sidebar": "Contents",
   "toc_cell": false,
   "toc_position": {},
   "toc_section_display": true,
   "toc_window_display": false
  },
  "varInspector": {
   "cols": {
    "lenName": 16,
    "lenType": 16,
    "lenVar": 40
   },
   "kernels_config": {
    "python": {
     "delete_cmd_postfix": "",
     "delete_cmd_prefix": "del ",
     "library": "var_list.py",
     "varRefreshCmd": "print(var_dic_list())"
    },
    "r": {
     "delete_cmd_postfix": ") ",
     "delete_cmd_prefix": "rm(",
     "library": "var_list.r",
     "varRefreshCmd": "cat(var_dic_list()) "
    }
   },
   "types_to_exclude": [
    "module",
    "function",
    "builtin_function_or_method",
    "instance",
    "_Feature"
   ],
   "window_display": false
  }
 },
 "nbformat": 4,
 "nbformat_minor": 4
}
