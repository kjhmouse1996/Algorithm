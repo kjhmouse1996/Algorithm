{
 "cells": [
  {
   "cell_type": "markdown",
   "metadata": {},
   "source": [
    "3개가 연속되는 숫자가 있을 경우 True를 출력하는 알고리즘"
   ]
  },
  {
   "cell_type": "code",
   "execution_count": 1,
   "metadata": {},
   "outputs": [
    {
     "name": "stdout",
     "output_type": "stream",
     "text": [
      "True\n"
     ]
    }
   ],
   "source": [
    "cards = [4, 8, 7, 3, 1, 5, 5, 6]\n",
    "cards_count = [0]*10\n",
    "is_run=False \n",
    "for num in cards: #cards리스트에 있는 숫자 하나씩 가져옴\n",
    "   cards_count[num] += 1 #cards리스트에서 가져온 숫자를 cards_count라는 리스트 위치에 하나씩 넣어줌\n",
    "for count in range(len(cards_count)-2): # cards리스트의 길이(8)에서 -2를 빼주는 것은 range가 0~5까지의 위치를 보기 위함\n",
    "    if cards_count[count] >= 1 and cards_count[count+1] >= 1 and cards_count[count+2] >= 1: #cards리스트에서 숫자를 하나씩 가져와서 cards_count리스트위치에 넣었을 때 1과 같거나 클 경우, and를 써서 3개 모두를 만족해야됨\n",
    "        is_run = True #True를 저장\n",
    "print(is_run)"
   ]
  },
  {
   "cell_type": "code",
   "execution_count": 2,
   "metadata": {},
   "outputs": [
    {
     "name": "stdout",
     "output_type": "stream",
     "text": [
      "False\n"
     ]
    }
   ],
   "source": [
    "cards = [4, 8, 1, 3, 1, 6, 6, 6]\n",
    "cards_count = [0]*10\n",
    "is_run=False \n",
    "\n",
    "for num in cards: \n",
    "   cards_count[num] += 1\n",
    "for j in range(len(cards_count)-2):\n",
    "\t\tif 0 not in cards_count[j:j+3]: #3개를 가져왔을 때 그 중 0이 없을 경우\n",
    "\t\t\tis_run = True\n",
    "print(is_run)"
   ]
  },
  {
   "cell_type": "code",
   "execution_count": null,
   "metadata": {},
   "outputs": [],
   "source": []
  }
 ],
 "metadata": {
  "kernelspec": {
   "display_name": "Python 3",
   "language": "python",
   "name": "python3"
  },
  "language_info": {
   "codemirror_mode": {
    "name": "ipython",
    "version": 3
   },
   "file_extension": ".py",
   "mimetype": "text/x-python",
   "name": "python",
   "nbconvert_exporter": "python",
   "pygments_lexer": "ipython3",
   "version": "3.8.5"
  },
  "toc": {
   "base_numbering": 1,
   "nav_menu": {},
   "number_sections": true,
   "sideBar": true,
   "skip_h1_title": false,
   "title_cell": "Table of Contents",
   "title_sidebar": "Contents",
   "toc_cell": false,
   "toc_position": {},
   "toc_section_display": true,
   "toc_window_display": false
  },
  "varInspector": {
   "cols": {
    "lenName": 16,
    "lenType": 16,
    "lenVar": 40
   },
   "kernels_config": {
    "python": {
     "delete_cmd_postfix": "",
     "delete_cmd_prefix": "del ",
     "library": "var_list.py",
     "varRefreshCmd": "print(var_dic_list())"
    },
    "r": {
     "delete_cmd_postfix": ") ",
     "delete_cmd_prefix": "rm(",
     "library": "var_list.r",
     "varRefreshCmd": "cat(var_dic_list()) "
    }
   },
   "types_to_exclude": [
    "module",
    "function",
    "builtin_function_or_method",
    "instance",
    "_Feature"
   ],
   "window_display": false
  }
 },
 "nbformat": 4,
 "nbformat_minor": 4
}
