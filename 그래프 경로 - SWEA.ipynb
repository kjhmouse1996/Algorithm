{
 "cells": [
  {
   "cell_type": "code",
   "execution_count": 3,
   "metadata": {},
   "outputs": [
    {
     "name": "stdout",
     "output_type": "stream",
     "text": [
      "3\n",
      "6 5\n",
      "1 4\n",
      "1 3\n",
      "2 3\n",
      "2 5\n",
      "4 6\n",
      "1 6\n",
      "#1 1\n",
      "7 4\n",
      "1 6\n",
      "2 3\n",
      "2 6\n",
      "3 5\n",
      "2 5\n",
      "#2 1\n",
      "9 9\n",
      "2 6\n",
      "4 7\n",
      "5 7\n",
      "1 5\n",
      "2 9\n",
      "3 9\n",
      "4 8\n",
      "5 3\n",
      "7 8\n",
      "1 9\n",
      "#3 1\n"
     ]
    }
   ],
   "source": [
    "def dfs(start, end):\n",
    "    stack = []\n",
    "    visit = [False] * (V+1)\n",
    "    stack.append(start)\n",
    "    # 입력받은 start부터 시작, 값이 있고 아직 방문하지 않은 정점이면 stack에 추가\n",
    "    while stack:\n",
    "        v = stack.pop()\n",
    "        visit[v]=True\n",
    "        for w in range(V+1):\n",
    "            if not visit[w]:\n",
    "                if arr[v][w]:\n",
    "                    stack.append(w)\n",
    "    # end 지점을 방문하였는지 반환\n",
    "    return visit[end]\n",
    "#테스트 케이스 수 입력\n",
    "T = int(input())\n",
    "for tc in range(1, T+1):\n",
    "    #정점과 간선의 개수 입력\n",
    "    V, E = map(int,input().split())\n",
    "    arr = [[0] *(V+1) for _ in range(V+1)]\n",
    "    #arr에 입력받은 연결된 정점 표시\n",
    "    for _ in range(E):\n",
    "        x, y = map(int,input().split())\n",
    "        arr[x][y] = 1\n",
    "    result = 1\n",
    "    #입력받은 a가 b에 연결되어있는지 확인\n",
    "    a, b= map(int,input().split())\n",
    "    if not dfs(a,b):\n",
    "        result = 0\n",
    "    print('#{} {}'.format(tc, result))"
   ]
  },
  {
   "cell_type": "code",
   "execution_count": null,
   "metadata": {},
   "outputs": [],
   "source": []
  }
 ],
 "metadata": {
  "kernelspec": {
   "display_name": "Python 3",
   "language": "python",
   "name": "python3"
  },
  "language_info": {
   "codemirror_mode": {
    "name": "ipython",
    "version": 3
   },
   "file_extension": ".py",
   "mimetype": "text/x-python",
   "name": "python",
   "nbconvert_exporter": "python",
   "pygments_lexer": "ipython3",
   "version": "3.8.5"
  },
  "toc": {
   "base_numbering": 1,
   "nav_menu": {},
   "number_sections": true,
   "sideBar": true,
   "skip_h1_title": false,
   "title_cell": "Table of Contents",
   "title_sidebar": "Contents",
   "toc_cell": false,
   "toc_position": {},
   "toc_section_display": true,
   "toc_window_display": false
  },
  "varInspector": {
   "cols": {
    "lenName": 16,
    "lenType": 16,
    "lenVar": 40
   },
   "kernels_config": {
    "python": {
     "delete_cmd_postfix": "",
     "delete_cmd_prefix": "del ",
     "library": "var_list.py",
     "varRefreshCmd": "print(var_dic_list())"
    },
    "r": {
     "delete_cmd_postfix": ") ",
     "delete_cmd_prefix": "rm(",
     "library": "var_list.r",
     "varRefreshCmd": "cat(var_dic_list()) "
    }
   },
   "types_to_exclude": [
    "module",
    "function",
    "builtin_function_or_method",
    "instance",
    "_Feature"
   ],
   "window_display": false
  }
 },
 "nbformat": 4,
 "nbformat_minor": 4
}
