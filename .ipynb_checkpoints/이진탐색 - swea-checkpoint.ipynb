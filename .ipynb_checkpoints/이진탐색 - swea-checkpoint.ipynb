{
 "cells": [
  {
   "cell_type": "code",
   "execution_count": 3,
   "metadata": {},
   "outputs": [
    {
     "name": "stdout",
     "output_type": "stream",
     "text": [
      "3\n",
      "400 300 350\n",
      "#1 A\n",
      "1000 299 578\n",
      "#2 0\n",
      "1000 222 888\n",
      "#3 A\n"
     ]
    }
   ],
   "source": [
    "def binary_search(page, target):\n",
    "    left = 1\n",
    "    right = page\n",
    "    count = 0\n",
    "    while left <= right:\n",
    "        mid = int((left + right) / 2)\n",
    "        if mid == target:\n",
    "            return count\n",
    "        elif mid < target:\n",
    "            left = mid\n",
    "            count += 1\n",
    "        elif mid > target:\n",
    "            right = mid\n",
    "            count += 1\n",
    "\n",
    "\n",
    "T = int(input())\n",
    "for tc in range(1, T + 1):\n",
    "    page, A, B = map(int, input().split())\n",
    "\n",
    "    countA = binary_search(page, A)\n",
    "    countB = binary_search(page, B)\n",
    "    \n",
    "    if countA > countB:\n",
    "        result = 'B'\n",
    "    elif countA < countB:\n",
    "        result = 'A'\n",
    "    else:\n",
    "        result = 0\n",
    "    print(\"#{} {}\".format(tc, result))"
   ]
  },
  {
   "cell_type": "code",
   "execution_count": null,
   "metadata": {},
   "outputs": [],
   "source": [
    "T = int(input())\n",
    "\n",
    "for i in range(1, T+1):\n",
    "    page, A, B = map(int, input().split())\n",
    "    "
   ]
  },
  {
   "cell_type": "code",
   "execution_count": null,
   "metadata": {},
   "outputs": [],
   "source": []
  }
 ],
 "metadata": {
  "kernelspec": {
   "display_name": "Python 3",
   "language": "python",
   "name": "python3"
  },
  "language_info": {
   "codemirror_mode": {
    "name": "ipython",
    "version": 3
   },
   "file_extension": ".py",
   "mimetype": "text/x-python",
   "name": "python",
   "nbconvert_exporter": "python",
   "pygments_lexer": "ipython3",
   "version": "3.8.5"
  },
  "toc": {
   "base_numbering": 1,
   "nav_menu": {},
   "number_sections": true,
   "sideBar": true,
   "skip_h1_title": false,
   "title_cell": "Table of Contents",
   "title_sidebar": "Contents",
   "toc_cell": false,
   "toc_position": {},
   "toc_section_display": true,
   "toc_window_display": false
  },
  "varInspector": {
   "cols": {
    "lenName": 16,
    "lenType": 16,
    "lenVar": 40
   },
   "kernels_config": {
    "python": {
     "delete_cmd_postfix": "",
     "delete_cmd_prefix": "del ",
     "library": "var_list.py",
     "varRefreshCmd": "print(var_dic_list())"
    },
    "r": {
     "delete_cmd_postfix": ") ",
     "delete_cmd_prefix": "rm(",
     "library": "var_list.r",
     "varRefreshCmd": "cat(var_dic_list()) "
    }
   },
   "types_to_exclude": [
    "module",
    "function",
    "builtin_function_or_method",
    "instance",
    "_Feature"
   ],
   "window_display": false
  }
 },
 "nbformat": 4,
 "nbformat_minor": 4
}
