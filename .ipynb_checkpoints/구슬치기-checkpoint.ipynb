{
 "cells": [
  {
   "cell_type": "markdown",
   "metadata": {},
   "source": [
    "김해킹은 구슬치기 대회에 참가하였다. 모든 인원은 참가 번호를 부여받는데, 자신과 같은 참가 번호를 가진 사람과 구슬치기 게임을 진행하여야 한다. 단, 반드시 짝이 없는 한 명의 깍두기가 존재한다. 참가자들의 참가 번호 정보가 주어질 때, 깍두기의 참가 번호를 출력하시오.\n",
    "\n",
    "제약 사항:\n",
    "- 참가자 번호는 1번부터 시작합니다\n",
    "- 깍두기는 한 명만 존재합니다\n",
    "- 깍두기를 제외한 모든 참가자는 자신의 짝(자신과 같은 수)이 존재합니다"
   ]
  },
  {
   "cell_type": "code",
   "execution_count": 11,
   "metadata": {},
   "outputs": [
    {
     "name": "stdout",
     "output_type": "stream",
     "text": [
      "1\n",
      "1 2 3 4 4 3 2\n",
      "#1, 1\n"
     ]
    }
   ],
   "source": [
    "T = int(input())\n",
    "for tc in range(1,T+1):\n",
    "    part_num = list(map(int, input().split())) #참가자번호\n",
    "    part_dict = dict() #빈 딕셔너리 만들기\n",
    "    \n",
    "    for num in part_num: \n",
    "        if not part_dict.get(num): #딕셔너리에 value값이 없을 경우\n",
    "            part_dict[num] = 1 #value값에 1을 넣어줌\n",
    "        else: #딕셔너리에 value값이 있을 겨우\n",
    "            part_dict[num] += 1 #key와 동일한 참가자번호를 하나씩 value에 추가함\n",
    "    \n",
    "    radish = 0 #빈 깍두기\n",
    "    for key, val in part_dict.items():  #딕셔너리의 key와 value를 하나씩 가져옴\n",
    "        if part_dict[key] == 1: #key로 딕셔너리 value를 찾을 때 만약 value가 1일 경우\n",
    "            radish = key #깍두기에 key를 넣어줌\n",
    "            \n",
    "    print(f'#{tc}, {radish}')"
   ]
  },
  {
   "cell_type": "code",
   "execution_count": null,
   "metadata": {},
   "outputs": [],
   "source": []
  }
 ],
 "metadata": {
  "kernelspec": {
   "display_name": "Python 3",
   "language": "python",
   "name": "python3"
  },
  "language_info": {
   "codemirror_mode": {
    "name": "ipython",
    "version": 3
   },
   "file_extension": ".py",
   "mimetype": "text/x-python",
   "name": "python",
   "nbconvert_exporter": "python",
   "pygments_lexer": "ipython3",
   "version": "3.8.5"
  },
  "toc": {
   "base_numbering": 1,
   "nav_menu": {},
   "number_sections": true,
   "sideBar": true,
   "skip_h1_title": false,
   "title_cell": "Table of Contents",
   "title_sidebar": "Contents",
   "toc_cell": false,
   "toc_position": {},
   "toc_section_display": true,
   "toc_window_display": false
  },
  "varInspector": {
   "cols": {
    "lenName": 16,
    "lenType": 16,
    "lenVar": 40
   },
   "kernels_config": {
    "python": {
     "delete_cmd_postfix": "",
     "delete_cmd_prefix": "del ",
     "library": "var_list.py",
     "varRefreshCmd": "print(var_dic_list())"
    },
    "r": {
     "delete_cmd_postfix": ") ",
     "delete_cmd_prefix": "rm(",
     "library": "var_list.r",
     "varRefreshCmd": "cat(var_dic_list()) "
    }
   },
   "types_to_exclude": [
    "module",
    "function",
    "builtin_function_or_method",
    "instance",
    "_Feature"
   ],
   "window_display": false
  }
 },
 "nbformat": 4,
 "nbformat_minor": 4
}
