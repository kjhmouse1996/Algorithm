{
 "cells": [
  {
   "cell_type": "code",
   "execution_count": null,
   "metadata": {},
   "outputs": [],
   "source": [
    "# 셀렉션 알고리즘, k번째로 작은 원소를 찾는 알고리즘\n",
    "def select(list, k):\n",
    "    for i in range(0,k):\n",
    "        minIndex = i\n",
    "        for j in range(i+1, len(list)):\n",
    "            if list[minIndex] > list[j]:\n",
    "                minIndex = j\n",
    "        list[i], list[minIndex] = list[minIndex],list[i]\n",
    "    return list[k-1] "
   ]
  },
  {
   "cell_type": "code",
   "execution_count": null,
   "metadata": {},
   "outputs": [],
   "source": [
    "# 선택 정렬, 포켓볼 순서대로 정렬하기\n",
    "# 주어진 자료들 중 가장 작은 값의 원소로부터 차례대로 선택하여 위치를 교환\n",
    "def selectionSort(a):\n",
    "    for i in range(0,len(a)-1):\n",
    "        min = i\n",
    "        for j in range(i+1,len(a)):\n",
    "            if a[min] > a[j]:\n",
    "                min = j\n",
    "        a[i],a[min] = a[min],a[i]"
   ]
  },
  {
   "cell_type": "code",
   "execution_count": 4,
   "metadata": {},
   "outputs": [
    {
     "name": "stdout",
     "output_type": "stream",
     "text": [
      "3\n",
      "10\n",
      "1 2 3 4 5 6 7 8 9 10\n",
      "#1 ['10', '1', '9', '2', '8', '3', '7', '4', '6', '5']\n",
      "10\n",
      "67 39 16 49 60 28 8 85 89 11\n",
      "#2 ['89', '8', '85', '11', '67', '16', '60', '28', '49', '39']\n",
      "20\n",
      "3 69 21 46 43 60 62 97 64 30 17 88 18 98 71 75 59 36 9 26\n",
      "#3 ['98', '3', '97', '9', '88', '17', '75', '18', '71', '21']\n"
     ]
    }
   ],
   "source": [
    "def select(list, k):\n",
    "    for i in range(0,k):\n",
    "        minIndex = i\n",
    "        for j in range(i+1, len(list)):\n",
    "            if list[minIndex] > list[j]:\n",
    "                minIndex = j\n",
    "        list[i], list[minIndex] = list[minIndex],list[i]\n",
    "    return list[k-1] \n",
    "\n",
    "T = int(input())\n",
    "for tc in range(T):\n",
    "    n = int(input())\n",
    "    a = list(map(int, input().split()))\n",
    "    \n",
    "    sorteda = []\n",
    "    for i in range(5):\n",
    "        sorteda.extend([str(select(a, n-i)), str(select(a, i+1))])\n",
    "    print(f'#{tc+1} {sorteda}')"
   ]
  },
  {
   "cell_type": "code",
   "execution_count": null,
   "metadata": {},
   "outputs": [],
   "source": []
  }
 ],
 "metadata": {
  "kernelspec": {
   "display_name": "Python 3",
   "language": "python",
   "name": "python3"
  },
  "language_info": {
   "codemirror_mode": {
    "name": "ipython",
    "version": 3
   },
   "file_extension": ".py",
   "mimetype": "text/x-python",
   "name": "python",
   "nbconvert_exporter": "python",
   "pygments_lexer": "ipython3",
   "version": "3.8.5"
  },
  "toc": {
   "base_numbering": 1,
   "nav_menu": {},
   "number_sections": true,
   "sideBar": true,
   "skip_h1_title": false,
   "title_cell": "Table of Contents",
   "title_sidebar": "Contents",
   "toc_cell": false,
   "toc_position": {},
   "toc_section_display": true,
   "toc_window_display": false
  },
  "varInspector": {
   "cols": {
    "lenName": 16,
    "lenType": 16,
    "lenVar": 40
   },
   "kernels_config": {
    "python": {
     "delete_cmd_postfix": "",
     "delete_cmd_prefix": "del ",
     "library": "var_list.py",
     "varRefreshCmd": "print(var_dic_list())"
    },
    "r": {
     "delete_cmd_postfix": ") ",
     "delete_cmd_prefix": "rm(",
     "library": "var_list.r",
     "varRefreshCmd": "cat(var_dic_list()) "
    }
   },
   "types_to_exclude": [
    "module",
    "function",
    "builtin_function_or_method",
    "instance",
    "_Feature"
   ],
   "window_display": false
  }
 },
 "nbformat": 4,
 "nbformat_minor": 4
}
