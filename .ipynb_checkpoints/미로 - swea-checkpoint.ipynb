{
 "cells": [
  {
   "cell_type": "code",
   "execution_count": 1,
   "metadata": {},
   "outputs": [
    {
     "name": "stdout",
     "output_type": "stream",
     "text": [
      "3\n",
      "5\n",
      "13101\n",
      "10101\n",
      "10101\n",
      "10101\n",
      "10021\n",
      "#1 1\n",
      "5\n",
      "10031\n",
      "10111\n",
      "10101\n",
      "10101\n",
      "12001\n",
      "#2 1\n",
      "5\n",
      "00013\n",
      "01110\n",
      "21000\n",
      "01111\n",
      "00000\n",
      "#3 0\n"
     ]
    }
   ],
   "source": [
    "# 상하좌우 이동 리스트\n",
    "move = [(1, 0), (-1, 0), (0, 1), (0, -1)]\n",
    "\n",
    "def boundary(y, x): # 경계 체크\n",
    "    if y < 0 or x < 0 or y >= n or x >= n:\n",
    "        return True  # 경계 벗어남\n",
    "    return False\n",
    "\n",
    "T = int(input())\n",
    "for tc in range(1, T+1):\n",
    "    n = int(input())\n",
    "    map_list = [list(map(int, list(input()))) for _ in range(n)]\n",
    "    y, x = 0, 0  # 시작좌표\n",
    "    result = 0  # 통로 연결되면 1로 바뀜\n",
    "    # 출발점(2) 찾기\n",
    "    for i in range(n):\n",
    "        if 2 in map_list[i]:\n",
    "            x = map_list[i].index(2)\n",
    "            y = i\n",
    "            break\n",
    "    stack = [(y, x)]  # 스택에 시작좌표 넣기\n",
    "    # 스택이 빌때까지 반복\n",
    "    while stack:\n",
    "        y, x = stack.pop()  # 현재 좌표 꺼내서\n",
    "        map_list[y][x] = 1  # 현재 좌표 방문처리\n",
    "        # 이동할 4방향 검사\n",
    "        for _y, _x in move:\n",
    "            dy = y + _y\n",
    "            dx = x + _x\n",
    "            # 경계 벗어나면 다음 길로\n",
    "            if boundary(dy, dx):\n",
    "                continue\n",
    "            if map_list[dy][dx] == 3:  # 도착하면\n",
    "                result = 1\n",
    "                break  # 결과 바꾸고 반복문 종료\n",
    "            # 통로(0)를 만나면 스택에 추가\n",
    "            elif not map_list[dy][dx]:\n",
    "                stack.append((dy, dx))\n",
    "        else:  # 브레이크 없이 끝나면 다음으로 진행\n",
    "            continue\n",
    "        break\n",
    "    print(f'#{tc} {result}')"
   ]
  },
  {
   "cell_type": "code",
   "execution_count": null,
   "metadata": {},
   "outputs": [],
   "source": []
  }
 ],
 "metadata": {
  "kernelspec": {
   "display_name": "Python 3",
   "language": "python",
   "name": "python3"
  },
  "language_info": {
   "codemirror_mode": {
    "name": "ipython",
    "version": 3
   },
   "file_extension": ".py",
   "mimetype": "text/x-python",
   "name": "python",
   "nbconvert_exporter": "python",
   "pygments_lexer": "ipython3",
   "version": "3.8.5"
  },
  "toc": {
   "base_numbering": 1,
   "nav_menu": {},
   "number_sections": true,
   "sideBar": true,
   "skip_h1_title": false,
   "title_cell": "Table of Contents",
   "title_sidebar": "Contents",
   "toc_cell": false,
   "toc_position": {},
   "toc_section_display": true,
   "toc_window_display": false
  },
  "varInspector": {
   "cols": {
    "lenName": 16,
    "lenType": 16,
    "lenVar": 40
   },
   "kernels_config": {
    "python": {
     "delete_cmd_postfix": "",
     "delete_cmd_prefix": "del ",
     "library": "var_list.py",
     "varRefreshCmd": "print(var_dic_list())"
    },
    "r": {
     "delete_cmd_postfix": ") ",
     "delete_cmd_prefix": "rm(",
     "library": "var_list.r",
     "varRefreshCmd": "cat(var_dic_list()) "
    }
   },
   "types_to_exclude": [
    "module",
    "function",
    "builtin_function_or_method",
    "instance",
    "_Feature"
   ],
   "window_display": false
  }
 },
 "nbformat": 4,
 "nbformat_minor": 4
}
