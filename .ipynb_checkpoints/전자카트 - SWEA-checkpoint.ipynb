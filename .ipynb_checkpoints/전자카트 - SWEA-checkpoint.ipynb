{
 "cells": [
  {
   "cell_type": "code",
   "execution_count": 2,
   "metadata": {},
   "outputs": [
    {
     "name": "stdout",
     "output_type": "stream",
     "text": [
      "3\n",
      "3\n",
      "0 18 34\n",
      "48 0 55\n",
      "18 7 0\n",
      "#1 89\n",
      "4\n",
      "0 83 65 97\n",
      "82 0 78 6\n",
      "19 19 0 82\n",
      "6 34 94 0\n",
      "#2 96\n",
      "5\n",
      "0 9 26 85 42\n",
      "14 0 84 31 27\n",
      "58 88 0 16 46\n",
      "83 61 94 0 17\n",
      "40 71 24 38 0\n",
      "#3 139\n"
     ]
    }
   ],
   "source": [
    "def recur(cnt, now, total): #(횟수, 현재위치, 현재까지 배터리 소비량)\n",
    "    global answer\n",
    "    if cnt == n:    # n회차이면 끝\n",
    "        total += arr[now][0]    # 마지막 사무실에 돌아오는 소비량 더해주기 \n",
    "        if total < answer:  # 총 소비량이 answer에 있는 값보다 작다면 갱신 \n",
    "            answer = total  \n",
    "            return\n",
    "\n",
    "    if answer < total:  # 이미 소비량 answer보다 크다면 돌아가 \n",
    "        return\n",
    "\n",
    "    for next in range(1, n):\n",
    "        # arr[i][i] 이면 해당 값은 0이므로, now 와 next가 같지않고, 방문한 곳이 아니라면 \n",
    "        if now != next and not visited[next]:\n",
    "            visited[next] = True    # 방문처리 \n",
    "            recur(cnt+1, next, total + arr[now][next])  # 들어가 \n",
    "            visited[next] = False   # 다음 사용을 위해 방문 풀어주기 \n",
    "\n",
    "\n",
    "tc = int(input())\n",
    "for idx in range(1, tc+1):\n",
    "    n = int(input())    # 관리구역 번호\n",
    "    arr = [list(map(int, input().split())) for _ in range(n)]\n",
    "    visited = [False for _ in range(n)] # 방문처리 리스트\n",
    "\n",
    "    answer = 99999999999999999999   # 최소 배터리 소비량 받을 변수\n",
    "    recur(1, 0, 0)\n",
    "\n",
    "    print('#{} {}'.format(idx, answer))"
   ]
  },
  {
   "cell_type": "code",
   "execution_count": null,
   "metadata": {},
   "outputs": [],
   "source": []
  }
 ],
 "metadata": {
  "kernelspec": {
   "display_name": "Python 3",
   "language": "python",
   "name": "python3"
  },
  "language_info": {
   "codemirror_mode": {
    "name": "ipython",
    "version": 3
   },
   "file_extension": ".py",
   "mimetype": "text/x-python",
   "name": "python",
   "nbconvert_exporter": "python",
   "pygments_lexer": "ipython3",
   "version": "3.8.5"
  },
  "toc": {
   "base_numbering": 1,
   "nav_menu": {},
   "number_sections": true,
   "sideBar": true,
   "skip_h1_title": false,
   "title_cell": "Table of Contents",
   "title_sidebar": "Contents",
   "toc_cell": false,
   "toc_position": {},
   "toc_section_display": true,
   "toc_window_display": false
  },
  "varInspector": {
   "cols": {
    "lenName": 16,
    "lenType": 16,
    "lenVar": 40
   },
   "kernels_config": {
    "python": {
     "delete_cmd_postfix": "",
     "delete_cmd_prefix": "del ",
     "library": "var_list.py",
     "varRefreshCmd": "print(var_dic_list())"
    },
    "r": {
     "delete_cmd_postfix": ") ",
     "delete_cmd_prefix": "rm(",
     "library": "var_list.r",
     "varRefreshCmd": "cat(var_dic_list()) "
    }
   },
   "types_to_exclude": [
    "module",
    "function",
    "builtin_function_or_method",
    "instance",
    "_Feature"
   ],
   "window_display": false
  }
 },
 "nbformat": 4,
 "nbformat_minor": 4
}
