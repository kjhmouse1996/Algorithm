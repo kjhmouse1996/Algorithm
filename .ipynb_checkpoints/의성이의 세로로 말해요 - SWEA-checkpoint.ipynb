{
 "cells": [
  {
   "cell_type": "code",
   "execution_count": 1,
   "metadata": {},
   "outputs": [
    {
     "name": "stdout",
     "output_type": "stream",
     "text": [
      "2\n",
      "ABCDE\n",
      "abcde\n",
      "01234\n",
      "FGHIJ\n",
      "fghij\n",
      "#1 Aa0FfBb1GgCc2HhDd3IiEe4Jj\n",
      "AABCDD\n",
      "afzz\n",
      "09121\n",
      "a8EWg6\n",
      "P5h3kx\n",
      "#2 Aa0aPAf985Bz1EhCz2W3D1gkD6x\n"
     ]
    }
   ],
   "source": [
    "# 풀이1\n",
    "T = int(input())\n",
    "\n",
    "for tc in range(1, T+1):\n",
    "    word_map = [list(input()) for x in range(5)]\n",
    "\n",
    "    # print(word_map)\n",
    "\n",
    "    max_count = 0  # 최대길이 찾기\n",
    "    for y in word_map:\n",
    "        if len(y) > max_count:\n",
    "            max_count = len(y)\n",
    "\n",
    "    mended_map = []  # 빈공간까지 채워진 word map\n",
    "\n",
    "    for i in word_map:  # 빈공간 채워주는 로직\n",
    "        if len(i) < max_count:\n",
    "            pendency_list = i + ['_']*(max_count-len(i))\n",
    "            mended_map.append(pendency_list)\n",
    "        else:\n",
    "            mended_map.append(i)\n",
    "\n",
    "    # print(mended_map)\n",
    "\n",
    "    answer = ''\n",
    "    # print(max_count)\n",
    "    for b in range(max_count):  # 세로순회!\n",
    "        for a in range(5):\n",
    "            # print(a,b)\n",
    "            if mended_map[a][b] != '_':\n",
    "                answer += mended_map[a][b]\n",
    "\n",
    "    print('#{} {}'.format(tc, answer))"
   ]
  },
  {
   "cell_type": "code",
   "execution_count": null,
   "metadata": {},
   "outputs": [
    {
     "name": "stdout",
     "output_type": "stream",
     "text": [
      "2\n",
      "ABCDE\n",
      "abcde\n",
      "01234\n",
      "FGHIJ\n",
      "fghij\n",
      "#1 Aa0FfBb1GgCc2HhDd3IiEe4Jj\n",
      "AABCDD\n",
      "afzz\n",
      "09121\n",
      "a8EWg6\n",
      "P5h3kx\n",
      "#2 Aa0aPAf985Bz1EhCz2W3D1gkD6x\n"
     ]
    }
   ],
   "source": [
    "# 풀이2\n",
    "T = int(input())\n",
    "\n",
    "for tc in range(1, T+1):\n",
    "    words = [list(input()) for _ in range(5)]\n",
    "\n",
    "    longest_word= 0  # 일단 제일 긴게 뭔지부터 확인합니다.\n",
    "    for word in words:\n",
    "        if len(word) > longest_word:\n",
    "            longest_word = len(word)\n",
    "\n",
    "    for idx, word in enumerate(words):  # 짧은 애들 있으면 뒤에 안쓸만한 - 이런거 하나 붙여서 길이 맞춰 줍니다.\n",
    "        if len(word) < longest_word:\n",
    "            word.extend(['-']*(longest_word-len(word)))\n",
    "            words[idx] = word\n",
    "\n",
    "    transposed_words = list(zip(*words))  # 세로로 찝으면 전치 효과를 줄 수 있어요\n",
    "\n",
    "    answer = ''\n",
    "    for vertical_line in transposed_words:  # 각각 하나씩 가로로 뽑아서 볼때 (원리스트 기준으론 세로로 보는것과 같습니다)\n",
    "        for letter in vertical_line:  # 그 문자 자체가\n",
    "            if letter != '-':  # 공간 채우기용으로 넣어뒀던 문자가 아니라면\n",
    "                answer += letter  # 읽어줌\n",
    "\n",
    "    print('#{} {}'.format(tc, answer))\n",
    "\n",
    "for t in range(1, int(input())+1):\n",
    "    result = [''] * 15\n",
    "    for _ in range(5):\n",
    "        word = input()\n",
    "        for i in range(len(word)):\n",
    "            result[i] += word[i]\n",
    "    print('#%s %s' % (t, ''.join(result)))"
   ]
  },
  {
   "cell_type": "code",
   "execution_count": null,
   "metadata": {},
   "outputs": [],
   "source": []
  }
 ],
 "metadata": {
  "kernelspec": {
   "display_name": "Python 3",
   "language": "python",
   "name": "python3"
  },
  "language_info": {
   "codemirror_mode": {
    "name": "ipython",
    "version": 3
   },
   "file_extension": ".py",
   "mimetype": "text/x-python",
   "name": "python",
   "nbconvert_exporter": "python",
   "pygments_lexer": "ipython3",
   "version": "3.8.5"
  },
  "toc": {
   "base_numbering": 1,
   "nav_menu": {},
   "number_sections": true,
   "sideBar": true,
   "skip_h1_title": false,
   "title_cell": "Table of Contents",
   "title_sidebar": "Contents",
   "toc_cell": false,
   "toc_position": {},
   "toc_section_display": true,
   "toc_window_display": false
  },
  "varInspector": {
   "cols": {
    "lenName": 16,
    "lenType": 16,
    "lenVar": 40
   },
   "kernels_config": {
    "python": {
     "delete_cmd_postfix": "",
     "delete_cmd_prefix": "del ",
     "library": "var_list.py",
     "varRefreshCmd": "print(var_dic_list())"
    },
    "r": {
     "delete_cmd_postfix": ") ",
     "delete_cmd_prefix": "rm(",
     "library": "var_list.r",
     "varRefreshCmd": "cat(var_dic_list()) "
    }
   },
   "types_to_exclude": [
    "module",
    "function",
    "builtin_function_or_method",
    "instance",
    "_Feature"
   ],
   "window_display": false
  }
 },
 "nbformat": 4,
 "nbformat_minor": 4
}
