{
 "cells": [
  {
   "cell_type": "code",
   "execution_count": 1,
   "metadata": {},
   "outputs": [
    {
     "name": "stdout",
     "output_type": "stream",
     "text": [
      "3\n",
      "6 3 3\n",
      "6 2 4 9 1 5\n",
      "#1 5 6 1 9 13 4 2 8 6\n",
      "5 3 5\n",
      "958 386 329 169 778\n",
      "#2 1736 2514 778 169 667 498 329 715 386 958\n",
      "10 4 10\n",
      "158 606 636 941 686 774 302 375 954 668\n",
      "#3 826 1494 668 954 375 1052 677 302 774 2234\n"
     ]
    }
   ],
   "source": [
    "for tc in range(1, int(input()) + 1):\n",
    "    N, M, K = map(int, input().split()) # N개의 숫자, M칸 뒤, K회 반복\n",
    "    array = list(map(int, input().split())) \n",
    "    index = M # M칸 씩 이동한 뒤 index\n",
    "\n",
    "    for _ in range(K):  # 수열갯수만큼 반복\n",
    "        index %= N # 현재 인덱스를 N으로 나눈 뒤 나머지\n",
    "        if not index: # index가 0 (index == N)\n",
    "            array.append(array[-1]+array[0]) # 마지막숫자 + 시작숫자\n",
    "            index -= 1  # 이 경우엔 index -1 (이래야 리스트 요소 하나 추가된게 반영됨) \n",
    "        else: # 평범한 경우\n",
    "            array.insert(index, array[index-1]+array[index])\n",
    "        N += 1 # 리스트 요소 하나 추가\n",
    "        index += M # M칸 뒤로 이동 \n",
    "\n",
    "    print(f'#{tc}', end=' ')\n",
    "    print(*array[-10:][::-1])  # 뒤에서부터 역순으로 출력"
   ]
  },
  {
   "cell_type": "code",
   "execution_count": null,
   "metadata": {},
   "outputs": [],
   "source": []
  }
 ],
 "metadata": {
  "kernelspec": {
   "display_name": "Python 3",
   "language": "python",
   "name": "python3"
  },
  "language_info": {
   "codemirror_mode": {
    "name": "ipython",
    "version": 3
   },
   "file_extension": ".py",
   "mimetype": "text/x-python",
   "name": "python",
   "nbconvert_exporter": "python",
   "pygments_lexer": "ipython3",
   "version": "3.8.5"
  },
  "toc": {
   "base_numbering": 1,
   "nav_menu": {},
   "number_sections": true,
   "sideBar": true,
   "skip_h1_title": false,
   "title_cell": "Table of Contents",
   "title_sidebar": "Contents",
   "toc_cell": false,
   "toc_position": {},
   "toc_section_display": true,
   "toc_window_display": false
  },
  "varInspector": {
   "cols": {
    "lenName": 16,
    "lenType": 16,
    "lenVar": 40
   },
   "kernels_config": {
    "python": {
     "delete_cmd_postfix": "",
     "delete_cmd_prefix": "del ",
     "library": "var_list.py",
     "varRefreshCmd": "print(var_dic_list())"
    },
    "r": {
     "delete_cmd_postfix": ") ",
     "delete_cmd_prefix": "rm(",
     "library": "var_list.r",
     "varRefreshCmd": "cat(var_dic_list()) "
    }
   },
   "types_to_exclude": [
    "module",
    "function",
    "builtin_function_or_method",
    "instance",
    "_Feature"
   ],
   "window_display": false
  }
 },
 "nbformat": 4,
 "nbformat_minor": 4
}
