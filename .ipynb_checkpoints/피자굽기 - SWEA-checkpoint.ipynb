{
 "cells": [
  {
   "cell_type": "code",
   "execution_count": 2,
   "metadata": {},
   "outputs": [
    {
     "name": "stdout",
     "output_type": "stream",
     "text": [
      "3\n",
      "3 5\n",
      "7 2 6 5 3\n",
      "#1 4\n",
      "5 10\n",
      "5 9 3 9 9 2 5 8 7 1\n",
      "#2 8\n",
      "5 10\n",
      "20 4 5 7 3 15 2 1 2 2\n",
      "#3 6\n"
     ]
    }
   ],
   "source": [
    "T = int(input())\n",
    "for tc in range(1, T+1):\n",
    "    N,M = list(map(int,input().split()))\n",
    "    pizza = list(map(int,input().split()))\n",
    "    cheese = []\n",
    "    for i in range(M):\n",
    "        cheese.append([i+1,pizza[i]]) #리스트에 인덱스와 함께 치즈 값 넣어주기\n",
    "    # print(cheese)\n",
    "    in_pizza = cheese[:N] #화덕에 N개만 넣을 수 있음\n",
    "    remain_pizza = cheese[N:]\n",
    "\n",
    "    while len(in_pizza) > 1: #하나만 남으면 중단\n",
    "        check = in_pizza.pop(0) #일단 맨앞 피자 꺼냄\n",
    "        check[1] //= 2 #check[1]인 이유는 [0]이면 인덱스 숫자가 나오고 [1]이면 치즈의 양이다.\n",
    "        if check[1] == 0: #꺼내봤을 때 0이라면 다음 남은 피자 넣는다\n",
    "            if remain_pizza:\n",
    "                in_pizza.append(remain_pizza.pop(0))\n",
    "        else: #치즈가 0이 아니라면 다시 넣는다\n",
    "            in_pizza.append(check)\n",
    "\n",
    "\n",
    "    print('#{} {}'.format(tc,in_pizza[0][0]))"
   ]
  },
  {
   "cell_type": "code",
   "execution_count": null,
   "metadata": {},
   "outputs": [],
   "source": []
  }
 ],
 "metadata": {
  "kernelspec": {
   "display_name": "Python 3",
   "language": "python",
   "name": "python3"
  },
  "language_info": {
   "codemirror_mode": {
    "name": "ipython",
    "version": 3
   },
   "file_extension": ".py",
   "mimetype": "text/x-python",
   "name": "python",
   "nbconvert_exporter": "python",
   "pygments_lexer": "ipython3",
   "version": "3.8.5"
  },
  "toc": {
   "base_numbering": 1,
   "nav_menu": {},
   "number_sections": true,
   "sideBar": true,
   "skip_h1_title": false,
   "title_cell": "Table of Contents",
   "title_sidebar": "Contents",
   "toc_cell": false,
   "toc_position": {},
   "toc_section_display": true,
   "toc_window_display": false
  },
  "varInspector": {
   "cols": {
    "lenName": 16,
    "lenType": 16,
    "lenVar": 40
   },
   "kernels_config": {
    "python": {
     "delete_cmd_postfix": "",
     "delete_cmd_prefix": "del ",
     "library": "var_list.py",
     "varRefreshCmd": "print(var_dic_list())"
    },
    "r": {
     "delete_cmd_postfix": ") ",
     "delete_cmd_prefix": "rm(",
     "library": "var_list.r",
     "varRefreshCmd": "cat(var_dic_list()) "
    }
   },
   "types_to_exclude": [
    "module",
    "function",
    "builtin_function_or_method",
    "instance",
    "_Feature"
   ],
   "window_display": false
  }
 },
 "nbformat": 4,
 "nbformat_minor": 4
}
