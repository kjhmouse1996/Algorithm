{
 "cells": [
  {
   "cell_type": "code",
   "execution_count": 2,
   "metadata": {},
   "outputs": [
    {
     "name": "stdout",
     "output_type": "stream",
     "text": [
      "3\n",
      "6 5\n",
      "1 4\n",
      "1 3\n",
      "2 3\n",
      "2 5\n",
      "4 6\n",
      "1 6\n",
      "#1 2\n",
      "7 4\n",
      "1 6\n",
      "2 3\n",
      "2 6\n",
      "3 5\n",
      "1 5\n",
      "#2 4\n",
      "9 9\n",
      "2 6\n",
      "4 7\n",
      "5 7\n",
      "1 5\n",
      "2 9\n",
      "3 9\n",
      "4 8\n",
      "5 3\n",
      "7 8\n",
      "1 9\n",
      "#3 3\n"
     ]
    }
   ],
   "source": [
    "from collections import deque\n",
    "# bfs구현\n",
    "def bfs(start, end):\n",
    "    q = deque([(start,0)])\n",
    "    while q:\n",
    "        x, cnt = q.popleft()\n",
    "        visit[x] = True #방문여부 저장\n",
    "        #각 노드에서 갈 수 있는 점들을 확인\n",
    "        for dx in vertex[x]:\n",
    "            if not visit[dx] and dx == end:\n",
    "                return cnt+1\n",
    "            # 도착 지점이 아니라면 거리를 1 증가하여 저장\n",
    "            elif not visit[dx]:\n",
    "                q.append((dx, cnt+1))\n",
    "    return 0\n",
    "# 테스트케이스 입력\n",
    "T = int(input())\n",
    "for tc in range(1, T+1):\n",
    "    V, E = map(int, input().split())\n",
    "    vertex = {}\n",
    "    visit = [False] * (V+1)\n",
    "    # 각 노드에서 갈 수 있는 노드의 정보를 저장\n",
    "    for _ in range(E):\n",
    "        i, j = map(int, input().split())\n",
    "        vertex[i] = vertex.get(i , []) + [j]\n",
    "        vertex[j] = vertex.get(j, []) + [i]\n",
    "    start, end = map(int, input().split())\n",
    "    print('#{} {}'.format(tc, bfs(start,end)))"
   ]
  },
  {
   "cell_type": "code",
   "execution_count": null,
   "metadata": {},
   "outputs": [],
   "source": []
  }
 ],
 "metadata": {
  "kernelspec": {
   "display_name": "Python 3",
   "language": "python",
   "name": "python3"
  },
  "language_info": {
   "codemirror_mode": {
    "name": "ipython",
    "version": 3
   },
   "file_extension": ".py",
   "mimetype": "text/x-python",
   "name": "python",
   "nbconvert_exporter": "python",
   "pygments_lexer": "ipython3",
   "version": "3.8.5"
  },
  "toc": {
   "base_numbering": 1,
   "nav_menu": {},
   "number_sections": true,
   "sideBar": true,
   "skip_h1_title": false,
   "title_cell": "Table of Contents",
   "title_sidebar": "Contents",
   "toc_cell": false,
   "toc_position": {},
   "toc_section_display": true,
   "toc_window_display": false
  },
  "varInspector": {
   "cols": {
    "lenName": 16,
    "lenType": 16,
    "lenVar": 40
   },
   "kernels_config": {
    "python": {
     "delete_cmd_postfix": "",
     "delete_cmd_prefix": "del ",
     "library": "var_list.py",
     "varRefreshCmd": "print(var_dic_list())"
    },
    "r": {
     "delete_cmd_postfix": ") ",
     "delete_cmd_prefix": "rm(",
     "library": "var_list.r",
     "varRefreshCmd": "cat(var_dic_list()) "
    }
   },
   "types_to_exclude": [
    "module",
    "function",
    "builtin_function_or_method",
    "instance",
    "_Feature"
   ],
   "window_display": false
  }
 },
 "nbformat": 4,
 "nbformat_minor": 4
}
