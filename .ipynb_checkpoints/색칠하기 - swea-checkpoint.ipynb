{
 "cells": [
  {
   "cell_type": "code",
   "execution_count": 25,
   "metadata": {},
   "outputs": [
    {
     "name": "stdout",
     "output_type": "stream",
     "text": [
      "3\n",
      "2\n",
      "2 2 4 4 1\n",
      "3 3 6 6 2\n",
      "#1 4\n",
      "3\n",
      "1 2 3 3 1\n",
      "3 6 6 8 1\n",
      "2 3 5 6 2\n",
      "#2 5\n",
      "3\n",
      "1 4 8 5 1\n",
      "1 8 3 9 1\n",
      "3 2 5 8 2\n",
      "#3 7\n"
     ]
    }
   ],
   "source": [
    "T = int(input())\n",
    "for table in range(1,T+1):\n",
    "    n = int(input())\n",
    "    arr = [[0]*10 for base in range(10)] # 좌표 틀\n",
    "    cnt = 0\n",
    "    for blank in range(n):\n",
    "        x1, x2, y1, y2, color = map(int, input().split())\n",
    "        for x in range(x1, y1+1):\n",
    "            for y in range(x2, y2+1):\n",
    "                if arr[x][y] == 1: # 좌표에 색이 이미 있으면 다른 색이 합쳐졌을 때 보라색이 되어\n",
    "                    cnt += 1       # cnt를 1을 더해줌\n",
    "                elif arr[x][y] == 0:  # 색이 없는 빈칸일 경우 0 \n",
    "                    arr[x][y] += 1\n",
    "    print(f'#{table} {cnt}')"
   ]
  },
  {
   "cell_type": "code",
   "execution_count": null,
   "metadata": {},
   "outputs": [],
   "source": []
  }
 ],
 "metadata": {
  "kernelspec": {
   "display_name": "Python 3",
   "language": "python",
   "name": "python3"
  },
  "language_info": {
   "codemirror_mode": {
    "name": "ipython",
    "version": 3
   },
   "file_extension": ".py",
   "mimetype": "text/x-python",
   "name": "python",
   "nbconvert_exporter": "python",
   "pygments_lexer": "ipython3",
   "version": "3.8.5"
  },
  "toc": {
   "base_numbering": 1,
   "nav_menu": {},
   "number_sections": true,
   "sideBar": true,
   "skip_h1_title": false,
   "title_cell": "Table of Contents",
   "title_sidebar": "Contents",
   "toc_cell": false,
   "toc_position": {},
   "toc_section_display": true,
   "toc_window_display": false
  },
  "varInspector": {
   "cols": {
    "lenName": 16,
    "lenType": 16,
    "lenVar": 40
   },
   "kernels_config": {
    "python": {
     "delete_cmd_postfix": "",
     "delete_cmd_prefix": "del ",
     "library": "var_list.py",
     "varRefreshCmd": "print(var_dic_list())"
    },
    "r": {
     "delete_cmd_postfix": ") ",
     "delete_cmd_prefix": "rm(",
     "library": "var_list.r",
     "varRefreshCmd": "cat(var_dic_list()) "
    }
   },
   "types_to_exclude": [
    "module",
    "function",
    "builtin_function_or_method",
    "instance",
    "_Feature"
   ],
   "window_display": false
  }
 },
 "nbformat": 4,
 "nbformat_minor": 4
}
