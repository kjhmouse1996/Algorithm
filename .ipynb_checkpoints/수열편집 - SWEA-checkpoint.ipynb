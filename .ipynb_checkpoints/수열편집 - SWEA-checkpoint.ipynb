{
 "cells": [
  {
   "cell_type": "code",
   "execution_count": 1,
   "metadata": {},
   "outputs": [
    {
     "name": "stdout",
     "output_type": "stream",
     "text": [
      "3\n",
      "5 3 4\n",
      "1 2 3 4 5\n",
      "I 2 7\n",
      "D 4\n",
      "C 3 8\n",
      "#1 5\n",
      "5 5 2\n",
      "15171 7509 20764 13445 10239\n",
      "C 3 18707\n",
      "C 1 20250\n",
      "D 2\n",
      "D 2\n",
      "C 0 7158\n",
      "#2 10239\n",
      "10 10 8\n",
      "27454 29662 2491 1819 10118 15441 7357 23618 972 398\n",
      "D 7\n",
      "D 1\n",
      "D 6\n",
      "I 3 2906\n",
      "C 1 27121\n",
      "D 3\n",
      "D 2\n",
      "D 1\n",
      "D 2\n",
      "C 2 20794\n",
      "#3 -1\n"
     ]
    }
   ],
   "source": [
    "for tc in range(1, int(input()) + 1):\n",
    "    N, M, L = map(int, input().split()) # N개의 숫자, M번 편집, 인덱스 L 출력\n",
    "    array = list(map(int, input().split())) # 최초 수열\n",
    "    flag = 1 # array의 요소가 없는 경우 0으로 바뀜\n",
    "    \n",
    "    for _ in range(M):  # M번 편집\n",
    "        rule = input().split()   # 법칙 입력 \n",
    "        # 법칙적용 \n",
    "        if rule[0] == 'I': \n",
    "            array.insert(int(rule[1]),int(rule[2]))\n",
    "        elif rule[0] == 'D':\n",
    "            if not array: \n",
    "                flag=0\n",
    "                break\n",
    "            array.pop(int(rule[1]))\n",
    "        else:\n",
    "            array[int(rule[1])] = int(rule[2])\n",
    "    \n",
    "    if len(array) > L: # 평범한 경우\n",
    "        if flag: # array에 요소가 있는 경우 \n",
    "            print(f'#{tc} {array[L]}')\n",
    "        else: # array에 요소가 없는 경우 \n",
    "            print(f'#{tc} -1')\n",
    "    else: # L이 array의 최대 인덱스보다 큰 경우 \n",
    "        print(f'#{tc} -1')"
   ]
  },
  {
   "cell_type": "code",
   "execution_count": null,
   "metadata": {},
   "outputs": [],
   "source": []
  }
 ],
 "metadata": {
  "kernelspec": {
   "display_name": "Python 3",
   "language": "python",
   "name": "python3"
  },
  "language_info": {
   "codemirror_mode": {
    "name": "ipython",
    "version": 3
   },
   "file_extension": ".py",
   "mimetype": "text/x-python",
   "name": "python",
   "nbconvert_exporter": "python",
   "pygments_lexer": "ipython3",
   "version": "3.8.5"
  },
  "toc": {
   "base_numbering": 1,
   "nav_menu": {},
   "number_sections": true,
   "sideBar": true,
   "skip_h1_title": false,
   "title_cell": "Table of Contents",
   "title_sidebar": "Contents",
   "toc_cell": false,
   "toc_position": {},
   "toc_section_display": true,
   "toc_window_display": false
  },
  "varInspector": {
   "cols": {
    "lenName": 16,
    "lenType": 16,
    "lenVar": 40
   },
   "kernels_config": {
    "python": {
     "delete_cmd_postfix": "",
     "delete_cmd_prefix": "del ",
     "library": "var_list.py",
     "varRefreshCmd": "print(var_dic_list())"
    },
    "r": {
     "delete_cmd_postfix": ") ",
     "delete_cmd_prefix": "rm(",
     "library": "var_list.r",
     "varRefreshCmd": "cat(var_dic_list()) "
    }
   },
   "types_to_exclude": [
    "module",
    "function",
    "builtin_function_or_method",
    "instance",
    "_Feature"
   ],
   "window_display": false
  }
 },
 "nbformat": 4,
 "nbformat_minor": 4
}
