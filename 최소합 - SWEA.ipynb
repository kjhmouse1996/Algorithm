{
 "cells": [
  {
   "cell_type": "code",
   "execution_count": 1,
   "metadata": {},
   "outputs": [
    {
     "name": "stdout",
     "output_type": "stream",
     "text": [
      "3\n",
      "3\n",
      "1 2 3\n",
      "2 3 4\n",
      "3 4 5\n",
      "#1 15\n",
      "4\n",
      "2 4 1 3\n",
      "1 1 7 1\n",
      "9 1 7 10\n",
      "5 7 2 4\n",
      "#2 18\n",
      "5\n",
      "6 7 1 10 2\n",
      "10 2 7 5 9\n",
      "9 3 2 9 6\n",
      "1 6 8 2 9\n",
      "8 3 8 2 1\n",
      "#3 33\n"
     ]
    }
   ],
   "source": [
    "dxy = [(0,1),(1,0)]\n",
    "def dfs(x, y, s):\n",
    "    global ans\n",
    "\n",
    "    if s >= ans:  # 가지치기\n",
    "        return\n",
    "\n",
    "    if x == N-1 and y == N-1:  # 도착지에 도착한 경우\n",
    "        if s < ans:\n",
    "            ans = s\n",
    "        return\n",
    "\n",
    "    for dx, dy in dxy:\n",
    "        nx, ny = x + dx, y + dy\n",
    "\n",
    "        if nx > -1 and nx < N and ny > -1 and ny < N:\n",
    "            dfs(nx, ny, s+matrix[nx][ny])\n",
    "\n",
    "T = int(input())\n",
    "for tc in range(1, T+1):\n",
    "    N = int(input())\n",
    "    matrix = [list(map(int, input().split())) for _ in range(N)]\n",
    "    ans = 999999\n",
    "    dfs(0, 0, matrix[0][0])\n",
    "    print('#{} {}'.format(tc, ans))"
   ]
  },
  {
   "cell_type": "code",
   "execution_count": null,
   "metadata": {},
   "outputs": [],
   "source": []
  }
 ],
 "metadata": {
  "kernelspec": {
   "display_name": "Python 3",
   "language": "python",
   "name": "python3"
  },
  "language_info": {
   "codemirror_mode": {
    "name": "ipython",
    "version": 3
   },
   "file_extension": ".py",
   "mimetype": "text/x-python",
   "name": "python",
   "nbconvert_exporter": "python",
   "pygments_lexer": "ipython3",
   "version": "3.8.5"
  },
  "toc": {
   "base_numbering": 1,
   "nav_menu": {},
   "number_sections": true,
   "sideBar": true,
   "skip_h1_title": false,
   "title_cell": "Table of Contents",
   "title_sidebar": "Contents",
   "toc_cell": false,
   "toc_position": {},
   "toc_section_display": true,
   "toc_window_display": false
  },
  "varInspector": {
   "cols": {
    "lenName": 16,
    "lenType": 16,
    "lenVar": 40
   },
   "kernels_config": {
    "python": {
     "delete_cmd_postfix": "",
     "delete_cmd_prefix": "del ",
     "library": "var_list.py",
     "varRefreshCmd": "print(var_dic_list())"
    },
    "r": {
     "delete_cmd_postfix": ") ",
     "delete_cmd_prefix": "rm(",
     "library": "var_list.r",
     "varRefreshCmd": "cat(var_dic_list()) "
    }
   },
   "types_to_exclude": [
    "module",
    "function",
    "builtin_function_or_method",
    "instance",
    "_Feature"
   ],
   "window_display": false
  }
 },
 "nbformat": 4,
 "nbformat_minor": 4
}
