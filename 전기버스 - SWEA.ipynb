{
 "cells": [
  {
   "cell_type": "code",
   "execution_count": 2,
   "metadata": {},
   "outputs": [
    {
     "name": "stdout",
     "output_type": "stream",
     "text": [
      "3 \n",
      "3 10 5\n",
      "1 3 5 7 9\n",
      "#1 3\n",
      "3 10 5\n",
      "1 3 7 8 9\n",
      "#2 0\n",
      "5 20 5\n",
      "4 7 9 14 17\n",
      "#3 4\n"
     ]
    }
   ],
   "source": [
    "# 풀이 1\n",
    "T = int(input())\n",
    "m = 0\n",
    "\n",
    "for each_tc in range(T):\n",
    "    track_info = list(map(int, input().split()))\n",
    "    charging_station_index = list(map(int, input().split()))\n",
    "    # 일단 충전기가 있는 배열을 만듦. 그 배열의 길이는 0~N\n",
    "\n",
    "    K = track_info[0]  # 최대이동거리\n",
    "    N = track_info[1]  # 종점의 길이\n",
    "    M = track_info[2]  # 충전기가 몇개 설치되었는가?\n",
    "\n",
    "    charging_station_list = [0]*(N+1)\n",
    "    for i in charging_station_index:\n",
    "        charging_station_list[i] = 1\n",
    "    # check_list = [0]*K # 3이 최대이동거리라면 대조할 [0, 0, 0] 리스트만듦. 이방식은 zip 쓸때나 가능할듯.\n",
    "    count = 0\n",
    "\n",
    "    start_index = 1\n",
    "    end_index = 1+K\n",
    " \n",
    "    while start_index < N - K + 1:\n",
    "        mini_list = charging_station_list[start_index:end_index]\n",
    "        for j in range(-1, -1-K, -1):  # 뒤쪽 인덱스 부터 확인하는 절차.\n",
    "            if mini_list[j] == 1:\n",
    "                count += 1\n",
    "                start_index, end_index = end_index + j + 1 , end_index + j + 1 + K\n",
    "                break  \n",
    "        else:\n",
    "            count = 0  # 그안에 충전소 없으면 0으로 초기화 후 종료.\n",
    "            break\n",
    "\n",
    "    m += 1\n",
    "\n",
    "    print('#{} {}'.format(m, count))\n"
   ]
  },
  {
   "cell_type": "code",
   "execution_count": 5,
   "metadata": {},
   "outputs": [
    {
     "name": "stdout",
     "output_type": "stream",
     "text": [
      "3\n",
      "3 10 5\n",
      "1 3 5 7 9\n",
      "#1 3\n",
      "3 10 5\n",
      "1 3 7 8 9\n",
      "#2 0\n",
      "5 20 5\n",
      "4 7 9 14 17\n",
      "#3 4\n"
     ]
    }
   ],
   "source": [
    "# 풀이 2\n",
    "T = int(input())\n",
    "\n",
    "for tc in range(1, T+1):\n",
    "    # K = 한번 충전으로 최대 이동 정류장 수, N = 몇번 정류장까지 있는가? (인덱스 기준)\n",
    "    # M = '몇개의 정류장에 충전기가 있는가?'\n",
    "    K, N, M = map(int, input().split())\n",
    "    chargers = list(map(int, input().split()))  # 충전기에 대한 정보를 받습니다.\n",
    "\n",
    "    bus = K  # 버스의 현재 위치 초기화 (일단 최대한 뻗어보면 시작부터 여기)\n",
    "    stations = [0]*(N+1)  # 정류장들을 리스트로 형상화 함, 아직 충전기가 들어가기 전 기초공사\n",
    "\n",
    "    for charger in chargers:  # 충전기에 대한 정보를 넣어줍니다 (빈 정류장에 충전기 설치)\n",
    "        stations[charger] = 1\n",
    "\n",
    "    answer = 0\n",
    "    previous_location = 0  # 버스가 어디서부터 출발했는지 초기화해주는 변수\n",
    "\n",
    "    while bus < N:  # 버스가 종점에 닿기 전까지 계속 루프를 돌립니다!\n",
    "        if stations[bus] == 1:  # 만약 충전소를 찾은 경우라면\n",
    "            previous_location = bus  # 그 충전소를 찾은 버스의 위치로 출발점 reset\n",
    "            bus += K  # 버스는 또 최대거리만큼 가고\n",
    "            answer += 1  # 하나의 충전 횟수를 늘려줍니다.\n",
    "        else:\n",
    "            bus -= 1  # 충전소를 못찾았다면 바로 직전 정류장을 봐야겠죠?\n",
    "            if previous_location == bus:  # 그렇게 1단계씩 백 하다가 출발지점으로 되돌아온 경우라면?\n",
    "                answer = 0  # 이전까지 몇번 충전을 했든간에 0으로 만들어 줘야해요!! (중요!!)\n",
    "                break  # 이런 경우라면 루프를 끝내 줍니다!\n",
    "\n",
    "    print('#{} {}'.format(tc, answer))"
   ]
  },
  {
   "cell_type": "code",
   "execution_count": null,
   "metadata": {},
   "outputs": [],
   "source": []
  }
 ],
 "metadata": {
  "kernelspec": {
   "display_name": "Python 3",
   "language": "python",
   "name": "python3"
  },
  "language_info": {
   "codemirror_mode": {
    "name": "ipython",
    "version": 3
   },
   "file_extension": ".py",
   "mimetype": "text/x-python",
   "name": "python",
   "nbconvert_exporter": "python",
   "pygments_lexer": "ipython3",
   "version": "3.8.5"
  },
  "toc": {
   "base_numbering": 1,
   "nav_menu": {},
   "number_sections": true,
   "sideBar": true,
   "skip_h1_title": false,
   "title_cell": "Table of Contents",
   "title_sidebar": "Contents",
   "toc_cell": false,
   "toc_position": {},
   "toc_section_display": true,
   "toc_window_display": false
  },
  "varInspector": {
   "cols": {
    "lenName": 16,
    "lenType": 16,
    "lenVar": 40
   },
   "kernels_config": {
    "python": {
     "delete_cmd_postfix": "",
     "delete_cmd_prefix": "del ",
     "library": "var_list.py",
     "varRefreshCmd": "print(var_dic_list())"
    },
    "r": {
     "delete_cmd_postfix": ") ",
     "delete_cmd_prefix": "rm(",
     "library": "var_list.r",
     "varRefreshCmd": "cat(var_dic_list()) "
    }
   },
   "types_to_exclude": [
    "module",
    "function",
    "builtin_function_or_method",
    "instance",
    "_Feature"
   ],
   "window_display": false
  }
 },
 "nbformat": 4,
 "nbformat_minor": 4
}
