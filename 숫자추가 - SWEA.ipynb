{
 "cells": [
  {
   "cell_type": "code",
   "execution_count": 1,
   "metadata": {},
   "outputs": [
    {
     "name": "stdout",
     "output_type": "stream",
     "text": [
      "3\n",
      "5 2 5\n",
      "1 2 3 4 5\n",
      "2 7\n",
      "4 8\n",
      "#1 4\n",
      "5 5 4\n",
      "13787 32221 32402 32498 4169\n",
      "3 5902\n",
      "3 9752\n",
      "3 27737\n",
      "1 14133\n",
      "0 16547\n",
      "#2 32402\n",
      "10 10 8\n",
      "16243 26767 22174 25277 17456 13398 29850 22297 1382 31246\n",
      "9 23198\n",
      "7 17514\n",
      "11 24247\n",
      "0 25306\n",
      "2 9104\n",
      "6 28112\n",
      "12 7491\n",
      "10 26972\n",
      "17 22639\n",
      "12 28722\n",
      "#3 13398\n"
     ]
    }
   ],
   "source": [
    "for tc in range(1, int(input()) + 1):\n",
    "    N, M, L = map(int, input().split())\n",
    "    array = list(map(int, input().split()))\n",
    "    for _ in range(M):\n",
    "        idx, num = map(int, input().split())\n",
    "        array.insert(idx,num)\n",
    "    print(f'#{tc} {array[L]}')"
   ]
  },
  {
   "cell_type": "code",
   "execution_count": null,
   "metadata": {},
   "outputs": [],
   "source": []
  }
 ],
 "metadata": {
  "kernelspec": {
   "display_name": "Python 3",
   "language": "python",
   "name": "python3"
  },
  "language_info": {
   "codemirror_mode": {
    "name": "ipython",
    "version": 3
   },
   "file_extension": ".py",
   "mimetype": "text/x-python",
   "name": "python",
   "nbconvert_exporter": "python",
   "pygments_lexer": "ipython3",
   "version": "3.8.5"
  },
  "toc": {
   "base_numbering": 1,
   "nav_menu": {},
   "number_sections": true,
   "sideBar": true,
   "skip_h1_title": false,
   "title_cell": "Table of Contents",
   "title_sidebar": "Contents",
   "toc_cell": false,
   "toc_position": {},
   "toc_section_display": true,
   "toc_window_display": false
  },
  "varInspector": {
   "cols": {
    "lenName": 16,
    "lenType": 16,
    "lenVar": 40
   },
   "kernels_config": {
    "python": {
     "delete_cmd_postfix": "",
     "delete_cmd_prefix": "del ",
     "library": "var_list.py",
     "varRefreshCmd": "print(var_dic_list())"
    },
    "r": {
     "delete_cmd_postfix": ") ",
     "delete_cmd_prefix": "rm(",
     "library": "var_list.r",
     "varRefreshCmd": "cat(var_dic_list()) "
    }
   },
   "types_to_exclude": [
    "module",
    "function",
    "builtin_function_or_method",
    "instance",
    "_Feature"
   ],
   "window_display": false
  }
 },
 "nbformat": 4,
 "nbformat_minor": 4
}
