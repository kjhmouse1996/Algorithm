{
 "cells": [
  {
   "cell_type": "code",
   "execution_count": 1,
   "metadata": {},
   "outputs": [
    {
     "name": "stdout",
     "output_type": "stream",
     "text": [
      "3\n",
      "10 3\n",
      "1 2 3 4 5 6 7 8 9 10\n",
      "#1, 21\n",
      "10 5\n",
      "6262 6004 1801 7660 7919 1280 525 9798 5134 1821\n",
      "#2, 11088\n",
      "20 19\n",
      "3266 9419 3087 9001 9321 1341 7379 6236 5795 8910 2990 2152 2249 4059 1394\n",
      "#3, 11088\n"
     ]
    }
   ],
   "source": [
    "T = int(input())\n",
    "\n",
    "for tc in range(1,T+1):  #케이스 수\n",
    "    N,M = map(int, input().split()) #N: 배열의 길이 , M: 이웃 개수 \n",
    "    nums = list(map(int, input().split())) #배열 값\n",
    "    sum_num = [] #배열에서 이웃한 M개의 합을 받을 리스트\n",
    "    for i in range(len(nums)-(M-1)): #배열의 길이 만큼의 값을 가져옴\n",
    "        for ind in range(1,M): #이웃 개수의 길이 만큼의 값을 가져옴, 0은 이미 num[i]이기 때문에 1부터 range를 잡음\n",
    "            nums[i] += nums[i+ind] #이웃 개수만큼 더해줌\n",
    "        sum_num.append(nums[i]) #더한 값을 빈리스트 sum_num에 넣어줌\n",
    "        answer = max(sum_num)-min(sum_num) #sum_num리스트에 있는 값 중 최고값과 최소값의 차를 구함\n",
    "\n",
    "    print(f'#{tc}, {answer}')"
   ]
  },
  {
   "cell_type": "code",
   "execution_count": null,
   "metadata": {},
   "outputs": [],
   "source": []
  }
 ],
 "metadata": {
  "kernelspec": {
   "display_name": "Python 3",
   "language": "python",
   "name": "python3"
  },
  "language_info": {
   "codemirror_mode": {
    "name": "ipython",
    "version": 3
   },
   "file_extension": ".py",
   "mimetype": "text/x-python",
   "name": "python",
   "nbconvert_exporter": "python",
   "pygments_lexer": "ipython3",
   "version": "3.8.5"
  },
  "toc": {
   "base_numbering": 1,
   "nav_menu": {},
   "number_sections": true,
   "sideBar": true,
   "skip_h1_title": false,
   "title_cell": "Table of Contents",
   "title_sidebar": "Contents",
   "toc_cell": false,
   "toc_position": {},
   "toc_section_display": true,
   "toc_window_display": false
  },
  "varInspector": {
   "cols": {
    "lenName": 16,
    "lenType": 16,
    "lenVar": 40
   },
   "kernels_config": {
    "python": {
     "delete_cmd_postfix": "",
     "delete_cmd_prefix": "del ",
     "library": "var_list.py",
     "varRefreshCmd": "print(var_dic_list())"
    },
    "r": {
     "delete_cmd_postfix": ") ",
     "delete_cmd_prefix": "rm(",
     "library": "var_list.r",
     "varRefreshCmd": "cat(var_dic_list()) "
    }
   },
   "types_to_exclude": [
    "module",
    "function",
    "builtin_function_or_method",
    "instance",
    "_Feature"
   ],
   "window_display": false
  }
 },
 "nbformat": 4,
 "nbformat_minor": 4
}
