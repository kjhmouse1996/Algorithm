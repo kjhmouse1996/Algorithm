{
 "cells": [
  {
   "cell_type": "code",
   "execution_count": 1,
   "metadata": {},
   "outputs": [
    {
     "name": "stdout",
     "output_type": "stream",
     "text": [
      "3\n",
      "4 4\n",
      "2 3 4 5\n",
      "4 8 7 6\n",
      "9 10 15 16\n",
      "1 2 6 5\n",
      "#1 16 15 10 9 5 6 7 8 4 4\n",
      "5 5\n",
      "273 415 58 798 251\n",
      "675 193 494 506 365\n",
      "479 390 224 334 387\n",
      "107 402 569 422 183\n",
      "88 709 994 206 916\n",
      "#2 251 798 365 506 494 193 675 387 334 224\n",
      "10 10\n",
      "178 778 659 231 274 123 788 16 483 404\n",
      "36 14 602 74 287 689 730 703 611 339\n",
      "445 468 126 821 946 212 218 143 999 923\n",
      "288 792 249 142 996 999 570 757 141 921\n",
      "98 87 800 892 401 244 661 179 403 985\n",
      "474 315 694 816 838 525 288 94 609 6\n",
      "789 433 474 883 927 841 242 233 286 749\n",
      "7 667 875 986 107 957 887 520 430 649\n",
      "721 206 65 776 328 807 845 908 382 836\n",
      "707 811 790 652 805 190 407 257 668 307\n",
      "#3 404 483 16 788 123 274 231 659 778 178\n"
     ]
    }
   ],
   "source": [
    "for tc in range(1, int(input()) + 1):\n",
    "    N, M = map(int, input().split())\n",
    "    # 합쳐질 수열 만들기\n",
    "    array = [float('inf')] # 양의 무한대 inf (최대값 구할 때 자주 활용)\n",
    "    cnt = 0 # 수열 더해질때마다 추가될 cnt\n",
    "    \n",
    "    for _ in range(M): # 수열갯수만큼 반복\n",
    "        # 개별수열 a\n",
    "        a = list(map(int, input().split()))\n",
    "        for i in range(N*cnt+1):\n",
    "            if a[0] < array[i]: \n",
    "                array[i:i] = a\n",
    "                break \n",
    "        cnt += 1\n",
    "    print(f'#{tc}', end=' ')\n",
    "    # 앞에 *을 붙여야 원소로 출력\n",
    "    print(*array[-11:-1][::-1]) # 뒤에서부터 역순으로 출력"
   ]
  },
  {
   "cell_type": "code",
   "execution_count": null,
   "metadata": {},
   "outputs": [],
   "source": []
  }
 ],
 "metadata": {
  "kernelspec": {
   "display_name": "Python 3",
   "language": "python",
   "name": "python3"
  },
  "language_info": {
   "codemirror_mode": {
    "name": "ipython",
    "version": 3
   },
   "file_extension": ".py",
   "mimetype": "text/x-python",
   "name": "python",
   "nbconvert_exporter": "python",
   "pygments_lexer": "ipython3",
   "version": "3.8.5"
  },
  "toc": {
   "base_numbering": 1,
   "nav_menu": {},
   "number_sections": true,
   "sideBar": true,
   "skip_h1_title": false,
   "title_cell": "Table of Contents",
   "title_sidebar": "Contents",
   "toc_cell": false,
   "toc_position": {},
   "toc_section_display": true,
   "toc_window_display": false
  },
  "varInspector": {
   "cols": {
    "lenName": 16,
    "lenType": 16,
    "lenVar": 40
   },
   "kernels_config": {
    "python": {
     "delete_cmd_postfix": "",
     "delete_cmd_prefix": "del ",
     "library": "var_list.py",
     "varRefreshCmd": "print(var_dic_list())"
    },
    "r": {
     "delete_cmd_postfix": ") ",
     "delete_cmd_prefix": "rm(",
     "library": "var_list.r",
     "varRefreshCmd": "cat(var_dic_list()) "
    }
   },
   "types_to_exclude": [
    "module",
    "function",
    "builtin_function_or_method",
    "instance",
    "_Feature"
   ],
   "window_display": false
  }
 },
 "nbformat": 4,
 "nbformat_minor": 4
}
