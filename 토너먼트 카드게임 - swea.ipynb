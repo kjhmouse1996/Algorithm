{
 "cells": [
  {
   "cell_type": "code",
   "execution_count": 1,
   "metadata": {},
   "outputs": [
    {
     "name": "stdout",
     "output_type": "stream",
     "text": [
      "3\n",
      "4\n",
      "1 3 2 1\n",
      "#1 3\n",
      "6\n",
      "2 1 1 2 3 3\n",
      "#2 5\n",
      "7\n",
      "1 3 3 3 1 1 3\n",
      "#3 1\n"
     ]
    }
   ],
   "source": [
    "# 가위바위보 게임\n",
    "def RPS(left, right):\n",
    "    l, r = cards[left-1], cards[right-1]\n",
    "\n",
    "    # 같을 경우, 인덱스가 낮은 사람이 이긴다.\n",
    "    if l == r:\n",
    "        return left\n",
    "    # 가위\n",
    "    elif l == 1:\n",
    "        if r == 3:\n",
    "            return left\n",
    "        elif r == 2:\n",
    "            return right\n",
    "    # 바위\n",
    "    elif l == 2:\n",
    "        if r == 1:\n",
    "            return left\n",
    "        elif r == 3:\n",
    "            return right\n",
    "    # 보\n",
    "    elif l == 3:\n",
    "        if r == 1:\n",
    "            return right\n",
    "        elif r == 2:\n",
    "            return left\n",
    "\n",
    "# card game 함수\n",
    "def cardGame(low, high):\n",
    "    if low == high:\n",
    "        return low\n",
    "    else:\n",
    "        # 중간 인덱스 설정\n",
    "        mid = (low + high) // 2\n",
    "\n",
    "        l = cardGame(low, mid)\n",
    "        r = cardGame(mid+1, high)\n",
    "        return RPS(l, r)\n",
    "\n",
    "# 테스트 케이스 T 입력\n",
    "T = int(input())\n",
    "for tc in range(1, T+1):\n",
    "    # 인원수 N 입력\n",
    "    N = int(input())\n",
    "\t\n",
    "    # N개의 카드 리스트 입력\n",
    "    cards = list(map(int, input().split()))\n",
    "\t\n",
    "    # 결과값 ans\n",
    "    ans = cardGame(1, N)\n",
    "\t\n",
    "    # 결과 출력\n",
    "    print('#{} {}'.format(tc, ans))\n"
   ]
  },
  {
   "cell_type": "code",
   "execution_count": null,
   "metadata": {},
   "outputs": [],
   "source": []
  }
 ],
 "metadata": {
  "kernelspec": {
   "display_name": "Python 3",
   "language": "python",
   "name": "python3"
  },
  "language_info": {
   "codemirror_mode": {
    "name": "ipython",
    "version": 3
   },
   "file_extension": ".py",
   "mimetype": "text/x-python",
   "name": "python",
   "nbconvert_exporter": "python",
   "pygments_lexer": "ipython3",
   "version": "3.8.5"
  },
  "toc": {
   "base_numbering": 1,
   "nav_menu": {},
   "number_sections": true,
   "sideBar": true,
   "skip_h1_title": false,
   "title_cell": "Table of Contents",
   "title_sidebar": "Contents",
   "toc_cell": false,
   "toc_position": {},
   "toc_section_display": true,
   "toc_window_display": false
  },
  "varInspector": {
   "cols": {
    "lenName": 16,
    "lenType": 16,
    "lenVar": 40
   },
   "kernels_config": {
    "python": {
     "delete_cmd_postfix": "",
     "delete_cmd_prefix": "del ",
     "library": "var_list.py",
     "varRefreshCmd": "print(var_dic_list())"
    },
    "r": {
     "delete_cmd_postfix": ") ",
     "delete_cmd_prefix": "rm(",
     "library": "var_list.r",
     "varRefreshCmd": "cat(var_dic_list()) "
    }
   },
   "types_to_exclude": [
    "module",
    "function",
    "builtin_function_or_method",
    "instance",
    "_Feature"
   ],
   "window_display": false
  }
 },
 "nbformat": 4,
 "nbformat_minor": 4
}
