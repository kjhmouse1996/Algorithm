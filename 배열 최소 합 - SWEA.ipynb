{
 "cells": [
  {
   "cell_type": "code",
   "execution_count": 1,
   "metadata": {},
   "outputs": [
    {
     "name": "stdout",
     "output_type": "stream",
     "text": [
      "3\n",
      "3\n",
      "2 1 2\n",
      "5 8 5\n",
      "7 2 2\n",
      "#1 8\n",
      "3\n",
      "9 4 7\n",
      "8 6 5\n",
      "5 3 7\n",
      "#2 14\n",
      "5\n",
      "5 2 1 1 9 \n",
      "3 3 8 3 1\n",
      "9 2 8 8 6\n",
      "1 5 7 8 3\n",
      "5 5 4 6 8\n",
      "#3 9\n"
     ]
    }
   ],
   "source": [
    "def backtrack(row, n, now_sum, visited):\n",
    "    global min_sum # 최소합을 전역변수로 선언\n",
    "    if row == n: # i가 배열의 수와 일치하면 \n",
    "        # 현재 합과 (지금까지)최소합 값을 비교\n",
    "        if now_sum < min_sum:\n",
    "            min_sum = now_sum # 현재합이 더 작으면 대체\n",
    "    elif now_sum > min_sum: \n",
    "        return # 현재 부분합이 더 크면 탐색 중지 (Pruning)\n",
    "    else: \n",
    "        for col in range(n): \n",
    "            if not visited[col]: # 방문 전인 컬럼 \n",
    "                visited[col] = 1 # 방문처리\n",
    "                # 다음 row로 넘어가고, now_sum에 값을 더해주고, visited 갱신\n",
    "                backtrack(row+1, n, now_sum+num[row][col], visited)\n",
    "                visited[col] = 0 # 함수 적용 후 초기화 (재검색 할 수 있도록)\n",
    "                \n",
    "T = int(input())\n",
    "for tc in range(T):\n",
    "    n = int(input())\n",
    "    num = [list(map(int, input().split())) for _ in range(n)]\n",
    "    min_sum = 100 # 값을 대체해주기 임의의 큰 수 대입\n",
    "    visited = [0]*n\n",
    "    \n",
    "    backtrack(0,n,0,visited) # 함수시작 \n",
    "    print(f'#{tc+1} {min_sum}')"
   ]
  },
  {
   "cell_type": "code",
   "execution_count": null,
   "metadata": {},
   "outputs": [],
   "source": []
  }
 ],
 "metadata": {
  "kernelspec": {
   "display_name": "Python 3",
   "language": "python",
   "name": "python3"
  },
  "language_info": {
   "codemirror_mode": {
    "name": "ipython",
    "version": 3
   },
   "file_extension": ".py",
   "mimetype": "text/x-python",
   "name": "python",
   "nbconvert_exporter": "python",
   "pygments_lexer": "ipython3",
   "version": "3.8.5"
  },
  "toc": {
   "base_numbering": 1,
   "nav_menu": {},
   "number_sections": true,
   "sideBar": true,
   "skip_h1_title": false,
   "title_cell": "Table of Contents",
   "title_sidebar": "Contents",
   "toc_cell": false,
   "toc_position": {},
   "toc_section_display": true,
   "toc_window_display": false
  },
  "varInspector": {
   "cols": {
    "lenName": 16,
    "lenType": 16,
    "lenVar": 40
   },
   "kernels_config": {
    "python": {
     "delete_cmd_postfix": "",
     "delete_cmd_prefix": "del ",
     "library": "var_list.py",
     "varRefreshCmd": "print(var_dic_list())"
    },
    "r": {
     "delete_cmd_postfix": ") ",
     "delete_cmd_prefix": "rm(",
     "library": "var_list.r",
     "varRefreshCmd": "cat(var_dic_list()) "
    }
   },
   "types_to_exclude": [
    "module",
    "function",
    "builtin_function_or_method",
    "instance",
    "_Feature"
   ],
   "window_display": false
  }
 },
 "nbformat": 4,
 "nbformat_minor": 4
}
