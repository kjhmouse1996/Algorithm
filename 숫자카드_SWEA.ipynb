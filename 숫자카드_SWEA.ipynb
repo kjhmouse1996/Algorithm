{
 "cells": [
  {
   "cell_type": "code",
   "execution_count": 1,
   "metadata": {},
   "outputs": [
    {
     "name": "stdout",
     "output_type": "stream",
     "text": [
      "3\n",
      "5\n",
      "49679\n",
      "#1, 9 2\n",
      "5\n",
      "08271\n",
      "#2, 8 1\n",
      "10\n",
      "7797946543\n",
      "#3, 7 3\n"
     ]
    }
   ],
   "source": [
    "T = int(input())\n",
    "for tc in range(1,T+1):\n",
    "    N = int(input()) #카드 수\n",
    "    cards = list(map(int, input().strip())) #카드 숫자\n",
    "    \n",
    "    card_list = [0]*10 #카드 숫자의 빈도수를 담아둘 빈 리스트\n",
    "    for num in cards: #카드 숫자 하나하나 가져옴\n",
    "        card_list[num] += 1 #가졍온 숫자를 빈리스트에 넣어줌\n",
    "    \n",
    "    max_n = 0 #가장 많은 숫자\n",
    "    max_card = 0 #가장 많은 숫자의 가장 큰 숫자\n",
    "    for num_lst in card_list: #빈도수 리스트에서 빈도수를 하나하나 가져옴\n",
    "        if max_n < num_lst:  #가장 많은 숫자의 빈도를 찾아줌\n",
    "            max_n = num_lst\n",
    "            \n",
    "    if max_n == 1: #만약 빈도수가 1일 경우, 즉, 가장 많은 숫자가 동일할 경우\n",
    "        max_card = max(cards) #입력받은 카드 숫자의 가장 큰 수를 찾아줌\n",
    "\n",
    "    elif max_n > 1: #만약 빈도수가 1보다 많은 숫자가 있을 경우\n",
    "        for num_lst in range(len(card_list)): #숫자 빈도수 리스트의 길이만큼의 range를 잡고 index(?)를 하나씩 가져옴\n",
    "            if card_list[num_lst]==max_n: #빈도수 리스트 index의 값과 max_n의 값이 같을 경우\n",
    "                max_card = num_lst #index를 가장큰숫자max_card에 넣어줌\n",
    "    \n",
    "    print(f'#{tc}, {max_card} {max_n}')"
   ]
  },
  {
   "cell_type": "code",
   "execution_count": null,
   "metadata": {},
   "outputs": [],
   "source": [
    "3\n",
    "5\n",
    "49679\n",
    "5\n",
    "08271\n",
    "10\n",
    "7797946543"
   ]
  }
 ],
 "metadata": {
  "kernelspec": {
   "display_name": "Python 3",
   "language": "python",
   "name": "python3"
  },
  "language_info": {
   "codemirror_mode": {
    "name": "ipython",
    "version": 3
   },
   "file_extension": ".py",
   "mimetype": "text/x-python",
   "name": "python",
   "nbconvert_exporter": "python",
   "pygments_lexer": "ipython3",
   "version": "3.8.5"
  },
  "toc": {
   "base_numbering": 1,
   "nav_menu": {},
   "number_sections": true,
   "sideBar": true,
   "skip_h1_title": false,
   "title_cell": "Table of Contents",
   "title_sidebar": "Contents",
   "toc_cell": false,
   "toc_position": {},
   "toc_section_display": true,
   "toc_window_display": false
  },
  "varInspector": {
   "cols": {
    "lenName": 16,
    "lenType": 16,
    "lenVar": 40
   },
   "kernels_config": {
    "python": {
     "delete_cmd_postfix": "",
     "delete_cmd_prefix": "del ",
     "library": "var_list.py",
     "varRefreshCmd": "print(var_dic_list())"
    },
    "r": {
     "delete_cmd_postfix": ") ",
     "delete_cmd_prefix": "rm(",
     "library": "var_list.r",
     "varRefreshCmd": "cat(var_dic_list()) "
    }
   },
   "types_to_exclude": [
    "module",
    "function",
    "builtin_function_or_method",
    "instance",
    "_Feature"
   ],
   "window_display": false
  }
 },
 "nbformat": 4,
 "nbformat_minor": 4
}
