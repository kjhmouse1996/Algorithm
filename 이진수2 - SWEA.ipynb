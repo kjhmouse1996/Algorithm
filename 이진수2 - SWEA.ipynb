{
 "cells": [
  {
   "cell_type": "code",
   "execution_count": 1,
   "metadata": {},
   "outputs": [
    {
     "name": "stdout",
     "output_type": "stream",
     "text": [
      "3\n",
      "0.625\n",
      "#1 101\n",
      "0.1\n",
      "#2 overflow\n",
      "0.125\n",
      "#3 001\n"
     ]
    }
   ],
   "source": [
    "for tc in range(1, int(input()) + 1):\n",
    "    N = float(input())\n",
    "    result = ''\n",
    "    # 2의 1승부터 ~ 2의 13승까지 계산\n",
    "    for power in range(-1, -14, -1):\n",
    "        result += str(int(N // (2**power)))\n",
    "        N %= (2**power)\n",
    "        # N == 0 이면 이진수로 변환이 완료된 것 -> 반복문 종료\n",
    "        if N == 0:\n",
    "            break\n",
    "    # 반복문이 강제종료되지 않았다는 것 -> 이진수 변환에 13자리 이상이 필요한 것 -> overflow\n",
    "    else:\n",
    "        result = 'overflow'\n",
    "\n",
    "    print('#{} {}'.format(tc, result))"
   ]
  },
  {
   "cell_type": "code",
   "execution_count": null,
   "metadata": {},
   "outputs": [],
   "source": []
  }
 ],
 "metadata": {
  "kernelspec": {
   "display_name": "Python 3",
   "language": "python",
   "name": "python3"
  },
  "language_info": {
   "codemirror_mode": {
    "name": "ipython",
    "version": 3
   },
   "file_extension": ".py",
   "mimetype": "text/x-python",
   "name": "python",
   "nbconvert_exporter": "python",
   "pygments_lexer": "ipython3",
   "version": "3.8.5"
  },
  "toc": {
   "base_numbering": 1,
   "nav_menu": {},
   "number_sections": true,
   "sideBar": true,
   "skip_h1_title": false,
   "title_cell": "Table of Contents",
   "title_sidebar": "Contents",
   "toc_cell": false,
   "toc_position": {},
   "toc_section_display": true,
   "toc_window_display": false
  },
  "varInspector": {
   "cols": {
    "lenName": 16,
    "lenType": 16,
    "lenVar": 40
   },
   "kernels_config": {
    "python": {
     "delete_cmd_postfix": "",
     "delete_cmd_prefix": "del ",
     "library": "var_list.py",
     "varRefreshCmd": "print(var_dic_list())"
    },
    "r": {
     "delete_cmd_postfix": ") ",
     "delete_cmd_prefix": "rm(",
     "library": "var_list.r",
     "varRefreshCmd": "cat(var_dic_list()) "
    }
   },
   "types_to_exclude": [
    "module",
    "function",
    "builtin_function_or_method",
    "instance",
    "_Feature"
   ],
   "window_display": false
  }
 },
 "nbformat": 4,
 "nbformat_minor": 4
}
